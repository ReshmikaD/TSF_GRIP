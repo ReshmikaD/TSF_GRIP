{
 "cells": [
  {
   "cell_type": "markdown",
   "metadata": {},
   "source": [
    "## Detection of Face Mask\n",
    "\n",
    "### Task Completed by Reshmika Dhandapani"
   ]
  },
  {
   "cell_type": "code",
   "execution_count": 1,
   "metadata": {},
   "outputs": [
    {
     "name": "stderr",
     "output_type": "stream",
     "text": [
      "Using TensorFlow backend.\n"
     ]
    }
   ],
   "source": [
    "import cv2\n",
    "import os\n",
    "import numpy as np\n",
    "from keras.utils import np_utils\n",
    "\n",
    "from tensorflow.keras.preprocessing.image import ImageDataGenerator\n",
    "from tensorflow.keras.optimizers import Adam\n",
    "from keras.models import Sequential\n",
    "from keras.layers import Dense,Activation\n",
    "from keras.layers import Flatten,Dropout\n",
    "from keras.layers import Conv2D,MaxPooling2D\n",
    "from sklearn.model_selection import \n",
    "\n",
    "from matplotlib import pyplot as plt"
   ]
  },
  {
   "cell_type": "markdown",
   "metadata": {},
   "source": [
    "### Code for Training model with face mask images"
   ]
  },
  {
   "cell_type": "code",
   "execution_count": 2,
   "metadata": {},
   "outputs": [
    {
     "name": "stdout",
     "output_type": "stream",
     "text": [
      "Images with facemask: 690\n",
      "Images without facemask 686\n"
     ]
    }
   ],
   "source": [
    "print(\"Images with facemask:\",len(os.listdir('data/with_mask')))\n",
    "print(\"Images without facemask\",len(os.listdir('data/without_mask')))"
   ]
  },
  {
   "cell_type": "code",
   "execution_count": 3,
   "metadata": {},
   "outputs": [],
   "source": [
    "dir_ = 'data'\n",
    "classes = os.listdir(dir_)\n",
    "labels = [i for i in range(len(classes))]\n",
    "label_dict = dict(zip(classes, labels))\n",
    "image = []\n",
    "label = []\n",
    "\n",
    "for c in classes:\n",
    "    folder_dir = os.path.join(dir_, c)\n",
    "    img_names = os.listdir(folder_dir)    \n",
    "    for i in img_names:\n",
    "        img_path = os.path.join(folder_dir, i)\n",
    "        img = cv2.imread(img_path)\n",
    "        \n",
    "        try:\n",
    "            gray = cv2.cvtColor(img, cv2.COLOR_BGR2GRAY)\n",
    "            resized = cv2.resize(gray,(224, 224))\n",
    "            image.append(resized)\n",
    "            label.append(label_dict[c])            \n",
    "        except Exception as e:\n",
    "            print('Exception:', e)"
   ]
  },
  {
   "cell_type": "code",
   "execution_count": 4,
   "metadata": {},
   "outputs": [],
   "source": [
    "from keras.utils import np_utils\n",
    "np_image_list = np.array(image, dtype=\"float32\") / 255.0\n",
    "np_image_list= np.reshape(np_image_list,(np_image_list.shape[0], 100,100, 1))\n",
    "label = np.asarray(label)\n",
    "labels = np_utils.to_categorical(label)\n",
    "\n",
    "img_size = len(image)\n",
    "print(img_size) "
   ]
  },
  {
   "cell_type": "code",
   "execution_count": 6,
   "metadata": {},
   "outputs": [
    {
     "name": "stdout",
     "output_type": "stream",
     "text": [
      "X_train shape (1238, 100, 100, 1)\n",
      "X_val shape (138, 100, 100, 1)\n",
      "y_train shape (1238, 2)\n",
      "y_val shape (138, 2)\n"
     ]
    }
   ],
   "source": [
    "X_train,X_val,y_train,y_val=train_test_split(np_image_list,labels,test_size=0.10)\n",
    "\n",
    "print(\"X_train shape\",X_train.shape)\n",
    "print(\"X_val shape\",X_val.shape)\n",
    "print(\"y_train shape\",y_train.shape)\n",
    "print(\"y_val shape\",y_val.shape)"
   ]
  },
  {
   "cell_type": "code",
   "execution_count": 7,
   "metadata": {},
   "outputs": [],
   "source": [
    "aug = ImageDataGenerator(rotation_range=20,zoom_range=0.15,\n",
    "                         width_shift_range=0.2,height_shift_range=0.2,\n",
    "                         shear_range=0.15,horizontal_flip=True,fill_mode=\"nearest\")"
   ]
  },
  {
   "cell_type": "code",
   "execution_count": 8,
   "metadata": {},
   "outputs": [
    {
     "name": "stdout",
     "output_type": "stream",
     "text": [
      "Model: \"sequential_1\"\n",
      "_________________________________________________________________\n",
      "Layer (type)                 Output Shape              Param #   \n",
      "=================================================================\n",
      "conv2d_1 (Conv2D)            (None, 98, 98, 200)       2000      \n",
      "_________________________________________________________________\n",
      "activation_1 (Activation)    (None, 98, 98, 200)       0         \n",
      "_________________________________________________________________\n",
      "max_pooling2d_1 (MaxPooling2 (None, 49, 49, 200)       0         \n",
      "_________________________________________________________________\n",
      "conv2d_2 (Conv2D)            (None, 47, 47, 100)       180100    \n",
      "_________________________________________________________________\n",
      "activation_2 (Activation)    (None, 47, 47, 100)       0         \n",
      "_________________________________________________________________\n",
      "max_pooling2d_2 (MaxPooling2 (None, 23, 23, 100)       0         \n",
      "_________________________________________________________________\n",
      "flatten_1 (Flatten)          (None, 52900)             0         \n",
      "_________________________________________________________________\n",
      "dropout_1 (Dropout)          (None, 52900)             0         \n",
      "_________________________________________________________________\n",
      "dense_1 (Dense)              (None, 50)                2645050   \n",
      "_________________________________________________________________\n",
      "dense_2 (Dense)              (None, 2)                 102       \n",
      "=================================================================\n",
      "Total params: 2,827,252\n",
      "Trainable params: 2,827,252\n",
      "Non-trainable params: 0\n",
      "_________________________________________________________________\n"
     ]
    }
   ],
   "source": [
    "model=Sequential()\n",
    "\n",
    "model.add(Conv2D(200,(3,3),input_shape=(100,100,1)))\n",
    "model.add(Activation('relu'))\n",
    "model.add(MaxPooling2D(pool_size=(2,2)))\n",
    "\n",
    "model.add(Conv2D(100,(3,3)))\n",
    "model.add(Activation('relu'))\n",
    "model.add(MaxPooling2D(pool_size=(2,2)))\n",
    "\n",
    "model.add(Flatten())\n",
    "model.add(Dropout(0.5))\n",
    "model.add(Dense(50,activation='relu'))\n",
    "model.add(Dense(2,activation='softmax'))\n",
    "\n",
    "model.summary()\n",
    "model.compile(loss=\"binary_crossentropy\",optimizer='adam',metrics=['accuracy'])"
   ]
  },
  {
   "cell_type": "code",
   "execution_count": 9,
   "metadata": {},
   "outputs": [
    {
     "name": "stdout",
     "output_type": "stream",
     "text": [
      "Epoch 1/15\n",
      "38/38 [==============================] - 102s 3s/step - loss: 0.7065 - accuracy: 0.5506 - val_loss: 0.6985 - val_accuracy: 0.4928\n",
      "Epoch 2/15\n",
      "38/38 [==============================] - 93s 2s/step - loss: 0.6364 - accuracy: 0.6310 - val_loss: 0.6006 - val_accuracy: 0.6957\n",
      "Epoch 3/15\n",
      "38/38 [==============================] - 104s 3s/step - loss: 0.5749 - accuracy: 0.7123 - val_loss: 0.4779 - val_accuracy: 0.7754\n",
      "Epoch 4/15\n",
      "38/38 [==============================] - 104s 3s/step - loss: 0.4601 - accuracy: 0.7919 - val_loss: 0.4599 - val_accuracy: 0.7681\n",
      "Epoch 5/15\n",
      "38/38 [==============================] - 90s 2s/step - loss: 0.4395 - accuracy: 0.8076 - val_loss: 0.3563 - val_accuracy: 0.8696\n",
      "Epoch 6/15\n",
      "38/38 [==============================] - 89s 2s/step - loss: 0.4180 - accuracy: 0.8151 - val_loss: 0.2928 - val_accuracy: 0.9348\n",
      "Epoch 7/15\n",
      "38/38 [==============================] - 89s 2s/step - loss: 0.3789 - accuracy: 0.8344 - val_loss: 0.2640 - val_accuracy: 0.9058\n",
      "Epoch 8/15\n",
      "38/38 [==============================] - 79s 2s/step - loss: 0.3377 - accuracy: 0.8516 - val_loss: 0.2198 - val_accuracy: 0.9493\n",
      "Epoch 9/15\n",
      "38/38 [==============================] - 80s 2s/step - loss: 0.3430 - accuracy: 0.8624 - val_loss: 0.2132 - val_accuracy: 0.9420\n",
      "Epoch 10/15\n",
      "38/38 [==============================] - 81s 2s/step - loss: 0.3175 - accuracy: 0.8532 - val_loss: 0.2322 - val_accuracy: 0.9420\n",
      "Epoch 11/15\n",
      "38/38 [==============================] - 94s 2s/step - loss: 0.3067 - accuracy: 0.8748 - val_loss: 0.2128 - val_accuracy: 0.9420\n",
      "Epoch 12/15\n",
      "38/38 [==============================] - 91s 2s/step - loss: 0.2699 - accuracy: 0.8947 - val_loss: 0.2277 - val_accuracy: 0.9203\n",
      "Epoch 13/15\n",
      "38/38 [==============================] - 86s 2s/step - loss: 0.2801 - accuracy: 0.8955 - val_loss: 0.1818 - val_accuracy: 0.9348\n",
      "Epoch 14/15\n",
      "38/38 [==============================] - 86s 2s/step - loss: 0.2542 - accuracy: 0.9022 - val_loss: 0.1676 - val_accuracy: 0.9638\n",
      "Epoch 15/15\n",
      "38/38 [==============================] - 87s 2s/step - loss: 0.2597 - accuracy: 0.8997 - val_loss: 0.1435 - val_accuracy: 0.9565\n"
     ]
    }
   ],
   "source": [
    "INIT_LR = 1e-4\n",
    "EPOCHS = 15\n",
    "BS = 32\n",
    "\n",
    "H = model.fit( aug.flow(X_train,y_train, batch_size=BS),steps_per_epoch=len(X_train) // BS,\n",
    "              validation_data=(X_val,y_val),validation_steps=len(X_val) // BS, epochs=EPOCHS)"
   ]
  },
  {
   "cell_type": "code",
   "execution_count": 10,
   "metadata": {},
   "outputs": [
    {
     "name": "stdout",
     "output_type": "stream",
     "text": [
      "138/138 [==============================] - 5s 39ms/step\n",
      "Validation Accuracy: 95.652174949646\n"
     ]
    }
   ],
   "source": [
    "scores = model.evaluate(X_val, y_val)\n",
    "print(f\"Validation Accuracy: {scores[1]*100}\")"
   ]
  },
  {
   "cell_type": "code",
   "execution_count": 14,
   "metadata": {},
   "outputs": [
    {
     "data": {
      "image/png": "[encoded data removed]",
      "text/plain": [
       "<Figure size 432x288 with 1 Axes>"
      ]
     },
     "metadata": {
      "needs_background": "light"
     },
     "output_type": "display_data"
    }
   ],
   "source": [
    "plt.plot(model.history.history['accuracy'],'r',label='training accuracy')\n",
    "plt.plot(model.history.history['val_accuracy'],label='validation accuracy')\n",
    "plt.legend()\n",
    "plt.show()"
   ]
  },
  {
   "cell_type": "code",
   "execution_count": 15,
   "metadata": {},
   "outputs": [
    {
     "data": {
      "image/png": "[encoded data removed]",
      "text/plain": [
       "<Figure size 432x288 with 1 Axes>"
      ]
     },
     "metadata": {
      "needs_background": "light"
     },
     "output_type": "display_data"
    }
   ],
   "source": [
    "plt.plot(model.history.history['loss'],'r',label='training loss')\n",
    "plt.plot(model.history.history['val_loss'],label='validation loss')\n",
    "plt.legend()\n",
    "plt.show()"
   ]
  },
  {
   "cell_type": "code",
   "execution_count": 16,
   "metadata": {},
   "outputs": [],
   "source": [
    "model.save('cnn_model.model')"
   ]
  }
 ],
 "metadata": {
  "kernelspec": {
   "display_name": "Python 3",
   "language": "python",
   "name": "python3"
  },
  "language_info": {
   "codemirror_mode": {
    "name": "ipython",
    "version": 3
   },
   "file_extension": ".py",
   "mimetype": "text/x-python",
   "name": "python",
   "nbconvert_exporter": "python",
   "pygments_lexer": "ipython3",
   "version": "3.7.4"
  }
 },
 "nbformat": 4,
 "nbformat_minor": 4
}
